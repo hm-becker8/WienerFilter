{
 "cells": [
  {
   "cell_type": "markdown",
   "metadata": {},
   "source": [
    "## Herleitung des Wiener Filters\n",
    "\n",
    "##### TODO: Grafik einfügen\n",
    "<!--- ![Alt-Text](test2.jpg) --->\n",
    "\n",
    "#### Annahmen:\n",
    "\n",
    "$$\\begin{align*}\n",
    "    g = h \\ast f + n \\; &\\Longrightarrow \\; G = H \\cdot F + N \\tag{1}\\\\\n",
    "    \\hat f = g \\ast w \\; &\\Longrightarrow \\; \\hat F = G \\cdot W \\tag{2}\\\\\n",
    "\\end{align*}$$\n",
    "\n",
    "$$\\begin{align*}\n",
    "    S_{FF} &= \\mathbb{E}\\Big[\\big\\|F\\big\\|^2\\Big] \\tag{3}\\\\\n",
    "    S_{NN} &= \\mathbb{E}\\Big[\\big\\|N\\big\\|^2\\Big] \\tag{4}\\\\\n",
    "     \n",
    "\\end{align*}$$\n",
    "\n",
    "Das Bild und das Rauschen sind unkorreliert:\n",
    "$$\\begin{align*}\n",
    "    S_{FN} = \\mathbb{E}\\Big[F^*N\\Big] = \\mathbb{E}\\Big[FN^*\\Big] = 0 \\tag{5}\\\\ \n",
    "\\end{align*}$$\n",
    "\n",
    "\n",
    "\n",
    "#### Herleitung:\n",
    "\n",
    "Minimierung des quadratischen Fehlers vom Orginalbild und des rekonstruierten Bildes:\n",
    "$$\\begin{equation*}\n",
    "    \\mathbb{E}\\Big[\\big\\|\\hat F - F\\big\\|^2\\Big] \\overset{(2)}{=} E\\Big[\\big\\|GW - F\\big\\|^2\\Big] \\\\\n",
    "\\end{equation*}$$\n",
    "\n",
    "$$\\begin{equation*}\n",
    "    = \\mathbb{E}\\Big[\\big\\|GW\\big\\|^2 + \\big\\|F\\big\\|^2 - (GW)^*F - GWF^*\\Big] \\\\\n",
    "\\end{equation*}$$\n",
    "\n",
    "$$\\begin{equation*}\n",
    "    = \\big\\|W\\big\\|^2 \\,\\mathbb{E}\\Big[\\big\\|G\\big\\|^2\\Big] + \\mathbb{E}\\Big[\\big\\|F\\big\\|^2\\Big] - W^* \\,\\mathbb{E}\\Big[G^*F\\Big] - W \\,\\mathbb{E}\\Big[GF^*\\Big] \\\\\n",
    "\\end{equation*}$$\n",
    "\n",
    "$$\\begin{equation*}\n",
    "    \\overset{(1,3)}{=} \\big\\|W\\big\\|^2 \\,\\mathbb{E}\\Big[\\big\\|HF + N\\big\\|^2\\Big] + S_{FF} - W^* \\,\\mathbb{E}\\Big[(HF + N)^*F\\Big] - W \\,\\mathbb{E}\\Big[(HF + N)F^*\\Big] \\\\\n",
    "\\end{equation*}$$\n",
    "\n",
    "$$\\begin{equation*}\n",
    "    = \\big\\|W\\big\\|^2 \\,\\mathbb{E}\\Big[\\big\\|HF\\big\\|^2 + \\big\\|N\\big\\|^2 + (HF)^*N + HFN^*\\Big] + S_{FF} - W^* \\,\\mathbb{E}\\Big[H^*\\big\\|F\\big\\|^2 + N^*F\\Big] - W \\,\\mathbb{E}\\Big[H\\big\\|F\\big\\|^2 + NF^*\\Big]\n",
    "\\end{equation*}$$\n",
    "\n",
    "$$\\begin{align*}\n",
    "    = &\\big\\|W\\big\\|^2 \\Big(\\big\\|H\\big\\|^2 \\,\\mathbb{E}\\Big[\\big\\|F\\big\\|^2\\Big] + \\mathbb{E}\\Big[\\big\\|N\\big\\|^2\\Big] + H^* \\,\\mathbb{E}\\Big[F^*N\\Big] + H \\,\\mathbb{E}\\Big[FN^*\\Big]\\Big) + S_{FF} \\\\ &- W^* \\Big(H^* \\,\\mathbb{E}\\Big[\\|F\\|^2\\Big] + \\mathbb{E}\\Big[N^*F\\Big]\\Big) - W \\Big(H \\,\\mathbb{E}\\Big[\\big\\|F\\big\\|^2\\Big] + \\mathbb{E}\\Big[NF^*\\Big]\\Big) \\\\\n",
    "\\end{align*}$$\n",
    "\n",
    "$$\\begin{equation*}\n",
    "    \\overset{(3,4,5)}{=} \\big\\|W\\big\\|^2 \\Big(\\big\\|H\\big\\|^2 S_{FF} + S_{NN} + H^*0 + H0\\Big) + S_{FF} - W^* \\Big(H^* S_{FF} + 0\\Big) - W \\Big(H S_{FF} + 0\\Big) \\\\\n",
    "\\end{equation*}$$\n",
    "\n",
    "$$\\begin{equation*}\n",
    "    = \\big\\|W\\big\\|^2 \\Big(\\big\\|H\\big\\|^2 S_{FF} + S_{NN}\\Big) + S_{FF} - W^*H^*S_{FF} - WHS_{FF}\n",
    "\\end{equation*}$$\n",
    "\n",
    "Ableiten und Nullstellen:\n",
    "$$\\begin{align*}\n",
    "    \\frac{\\partial \\, \\mathbb{E}\\Big[\\big\\|\\hat F - F\\big\\|^2\\Big]}{\\partial \\, W} &= \\frac{\\partial \\, \\big\\|W\\big\\|^2 \\Big(\\big\\|H\\big\\|^2 S_{FF} + S_{NN}\\Big) + S_{FF} - W^*H^*S_{FF} - WHS_{FF}}{\\partial \\, W} \\\\\n",
    "    &= W^* \\Big(\\big\\|H\\big\\|^2 S_{FF} + S_{NN}\\Big) - HS_{FF} \\overset{!}{=} 0 \\\\\n",
    "\\end{align*}$$\n",
    "\n",
    "$$\\begin{align*}\n",
    "    &\\Longleftrightarrow W^* \\Big(\\big\\|H\\big\\|^2 S_{FF} + S_{NN}\\Big) = HS_{FF} \\\\\n",
    "    &\\Longleftrightarrow W \\Big(\\big\\|H\\big\\|^2 S_{FF} + S_{NN}\\Big) = H^*S_{FF} \\\\\n",
    "    &\\Longleftrightarrow W = \\frac{H^*S_{FF}}{\\|H\\|^2 S_{FF} + S_{NN}} = \\frac{H^*}{\\|H\\|^2 + \\frac{S_{NN}}{S_{FF}}}\n",
    "\\end{align*}$$"
   ]
  },
  {
   "cell_type": "code",
   "execution_count": null,
   "metadata": {},
   "outputs": [],
   "source": [
    "from PIL import Image\n",
    "import numpy as np\n",
    "from matplotlib import pyplot as plt\n",
    "from tqdm.notebook import tqdm"
   ]
  },
  {
   "cell_type": "code",
   "execution_count": null,
   "metadata": {},
   "outputs": [],
   "source": [
    "def read_image(image_path):\n",
    "    image = np.array(Image.open(image_path).convert('L'))\n",
    "    normalized_image = image / image.max()\n",
    "    return normalized_image\n",
    "\n",
    "def show_images(image):\n",
    "    plt.imshow(np.clip(0, 1, image), cmap='gray')\n",
    "    plt.axis('off')\n",
    "    plt.show()"
   ]
  },
  {
   "cell_type": "code",
   "execution_count": null,
   "metadata": {},
   "outputs": [],
   "source": [
    "def fft(image):\n",
    "    return np.fft.fft2(image)\n",
    "\n",
    "def ifft(image_fq):\n",
    "    return np.abs(np.fft.ifft2(image_fq))"
   ]
  },
  {
   "cell_type": "markdown",
   "metadata": {},
   "source": [
    "#### l2-Error:\n",
    "$$\\begin{equation*}\n",
    "    \\mathbb{e}^2 = \\mathbb{E}\\Big[\\big\\| \\hat f - f \\big\\|^2\\Big]\n",
    "\\end{equation*}$$\n",
    "\n",
    "#### accuracy-smoothness-Error:\n",
    "$$\\begin{equation*}\n",
    "    \\mathbb{e}^{as} = \\mathbb{E}\\Big[\\big\\| \\hat g - h \\ast \\hat f \\big\\|^2\\Big] + \\lambda \\, \\mathbb{E}\\Big[\\big\\| \\hat f^{\\prime} \\big\\|^2\\Big]\n",
    "\\end{equation*}$$\n"
   ]
  },
  {
   "cell_type": "code",
   "execution_count": null,
   "metadata": {},
   "outputs": [],
   "source": [
    "def l2_error(f, f_hat):\n",
    "    return np.linalg.norm(f_hat - f)\n",
    "\n",
    "def accuracy_smothness_error(g, f_hat, H, _lambda):\n",
    "    data_accuracy = np.linalg.norm(g - ifft(fft(f_hat) * H))\n",
    "    smothness = np.sum(np.square(np.gradient(f_hat)))\n",
    "    return data_accuracy + _lambda * smothness"
   ]
  },
  {
   "cell_type": "code",
   "execution_count": null,
   "metadata": {},
   "outputs": [],
   "source": [
    "def inverse_filter(G, H):\n",
    "    F_hat = G / H\n",
    "    f_hat = ifft(F_hat)\n",
    "    return f_hat\n",
    "\n",
    "\"\"\"\n",
    "G: blured image in frequency domain\n",
    "H: motion blur filter in frequency domain\n",
    "K: The noise-to-signal power ratio\n",
    "\"\"\"\n",
    "def wiener_filter(G, H, K):\n",
    "    W = np.conjugate(H) / (np.abs(np.square(H)) + K)\n",
    "    F_hat = W * G\n",
    "    f_hat = ifft(F_hat)\n",
    "    return f_hat\n",
    "\n"
   ]
  },
  {
   "cell_type": "markdown",
   "metadata": {},
   "source": [
    "#### motion-blur-filter:\n",
    "$$\\begin{equation*}\n",
    "    H(u,v) = T sinc\\Big(\\pi\\big(u \\Delta x + v \\Delta y\\big)\\Big)\\mathrm{e}^{\\mathrm{i} \\pi \\big(u \\Delta x + v \\Delta y\\big)}\n",
    "\\end{equation*}$$\n",
    "\n",
    "#### gausian-noise-filter:\n",
    "$$\\begin{align*}\n",
    "    n(x,y) &\\sim \\mathcal{N}\\big(\\mu,\\sigma^2\\big)\\\\\n",
    "    N(u,v) &= \\mathcal{F}\\big(n(x,y)\\big) \\\\\n",
    "\\end{align*}$$"
   ]
  },
  {
   "cell_type": "code",
   "execution_count": null,
   "metadata": {},
   "outputs": [],
   "source": [
    "def get_motion_blur_filter_fq(shape, T, dx, dy):\n",
    "    U_DIM ,V_DIM = shape \n",
    "    H_u = np.arange(0, U_DIM, 1)\n",
    "    H_v = np.arange(0, V_DIM, 1)\n",
    "    \n",
    "    H_U, H_V = np.meshgrid(H_v, H_u)\n",
    "    H = np.dstack((H_U, H_V))\n",
    "\n",
    "    dxy = np.array([dx, dy])\n",
    "\n",
    "    def s(uv):\n",
    "        return np.pi * uv.dot(dxy)\n",
    "    \n",
    "    H = np.apply_along_axis(s, axis=2, arr=H)\n",
    "    H = T * np.sinc(H) * np.exp(-1j * H)    \n",
    "      \n",
    "    return H\n",
    "\n",
    "def get_gausian_noise_filter_fq(shape, mean, var):\n",
    "    n = np.random.normal(mean, var, shape)\n",
    "    N = fft(n)\n",
    "    return N"
   ]
  },
  {
   "cell_type": "code",
   "execution_count": null,
   "metadata": {},
   "outputs": [],
   "source": [
    "def plot_images_restauration(original_image, disturbed_image, restored_images, restored_titels, motion_blur_filter_fq, _lambda, _show_as_error=False):\n",
    "    fig, ax = plt.subplots(1, len(restored_images) + 2)\n",
    "    fig.set_size_inches((12, 10))\n",
    "\n",
    "    ax[0].set_title(f'original image\\n l2-error: {l2_error(original_image, original_image):.2f},\\n acc_smooth_error: {accuracy_smothness_error(disturbed_image, original_image, motion_blur_filter_fq, _lambda):.2f}' if _show_as_error else \"\")\n",
    "    ax[0].imshow(original_image, cmap='gray')\n",
    "    ax[0].axis('off')\n",
    "\n",
    "    ax[1].set_title(f'disturbed image\\n l2-error: {l2_error(original_image, disturbed_image):.2f},\\n acc_smooth_error: {accuracy_smothness_error(disturbed_image, disturbed_image, motion_blur_filter_fq, _lambda):.2f}' if _show_as_error else \"\")\n",
    "    ax[1].imshow(disturbed_image, cmap='gray')\n",
    "    ax[1].axis('off')\n",
    "\n",
    "    for i in range(len(restored_images)):\n",
    "        ax[i + 2].set_title(f'{restored_titels[i]}\\n l2-error: {l2_error(original_image, restored_images[i]):.2f},\\n acc_smooth_error: {accuracy_smothness_error(disturbed_image, restored_images[i], motion_blur_filter_fq, _lambda):.2f}' if _show_as_error else \"\")\n",
    "        ax[i + 2].imshow(restored_images[i], cmap='gray')\n",
    "        ax[i + 2].axis('off')\n",
    "\n",
    "    plt.tight_layout()\n",
    "    plt.show()\n"
   ]
  },
  {
   "cell_type": "code",
   "execution_count": null,
   "metadata": {},
   "outputs": [],
   "source": [
    "def optimize_k(disturbed_image_fq, motion_blur_filter_fq, _lambda=0, _dropout=True, _max_iter=50):\n",
    "\n",
    "    disturbed_image = ifft(disturbed_image_fq)\n",
    "\n",
    "    best_error = np.inf\n",
    "    best_k = 0.5\n",
    "    step = 0.5\n",
    "\n",
    "    for _ in tqdm(range(_max_iter), desc='Optimizing K'):\n",
    "\n",
    "        last_iter_error = best_error\n",
    "        K = np.linspace(best_k + step, best_k - step, 5, endpoint=False)[1:]     \n",
    "        \n",
    "        for k in K:\n",
    "            if k < 0:\n",
    "                continue\n",
    "            restored_image = wiener_filter(disturbed_image_fq, motion_blur_filter_fq, k)\n",
    "            error = accuracy_smothness_error(disturbed_image, restored_image, motion_blur_filter_fq, _lambda)\n",
    "            if error < best_error:\n",
    "                best_error = error\n",
    "                best_k = k\n",
    "\n",
    "        step /= 2\n",
    "        if _dropout and last_iter_error - best_error < 0.01:\n",
    "            break\n",
    "\n",
    "    return best_k"
   ]
  },
  {
   "cell_type": "code",
   "execution_count": null,
   "metadata": {},
   "outputs": [],
   "source": [
    "image_path = 'dog_original.png'\n",
    "\n",
    "_mb_T=1; _mb_dx=0.005; _mb_dy=0.001\n",
    "_g_mean=0.05; _g_var=0.05\n",
    "\n",
    "def test_restaurations(image_path, _mb_T=1, _mb_dx=0.005, _mb_dy=0.001, _g_mean=0.05, _g_var=0.05, _lambda=1):\n",
    "    f = read_image(image_path)\n",
    "    F = fft(f)\n",
    "    H = get_motion_blur_filter_fq(F.shape, _mb_T, _mb_dx, _mb_dy)\n",
    "    N = get_gausian_noise_filter_fq(F.shape, _g_mean, _g_var)\n",
    "\n",
    "    G = H * F + N\n",
    "    g = ifft(G)\n",
    "\n",
    "    # wiener filter with knowledge of powerspectrum of image and noise\n",
    "    S_F = np.mean(np.abs(np.square(F)))\n",
    "    S_N = np.mean(np.abs(np.square(N)))\n",
    "\n",
    "    f_hat = wiener_filter(G, H, S_N/S_F)\n",
    "\n",
    "    # wiener filter with optimization of K\n",
    "    optimal_k = optimize_k(G, H, _lambda=_lambda)\n",
    "\n",
    "    f_hat_k = wiener_filter(G, H, optimal_k)\n",
    "\n",
    "    plot_images_restauration(f, g, [f_hat, f_hat_k], ['restored image', 'restored image with optimization'], H, _lambda=_lambda, _show_as_error=True)"
   ]
  },
  {
   "cell_type": "code",
   "execution_count": null,
   "metadata": {},
   "outputs": [],
   "source": [
    "test_restaurations('dog_original.png', _mb_T=1, _mb_dx=0.004, _mb_dy=0.002, _g_mean=0, _g_var=0)"
   ]
  },
  {
   "cell_type": "code",
   "execution_count": null,
   "metadata": {},
   "outputs": [],
   "source": [
    "test_restaurations('dog_original.png', _mb_T=1, _mb_dx=0, _mb_dy=0, _g_mean=0.1, _g_var=0.2)"
   ]
  },
  {
   "cell_type": "code",
   "execution_count": null,
   "metadata": {},
   "outputs": [],
   "source": [
    "test_restaurations('test2.jpg', _mb_T=1, _mb_dx=0.004, _mb_dy=0.002, _g_mean=0.01, _g_var=0.002)"
   ]
  },
  {
   "cell_type": "code",
   "execution_count": null,
   "metadata": {},
   "outputs": [],
   "source": [
    "test_restaurations('test2.jpg', _mb_T=1, _mb_dx=0.004, _mb_dy=0.002, _g_mean=0, _g_var=0)"
   ]
  },
  {
   "cell_type": "code",
   "execution_count": null,
   "metadata": {},
   "outputs": [],
   "source": [
    "test_restaurations('test2.jpg', _mb_T=1, _mb_dx=0.02, _mb_dy=0.01, _g_mean=0.01, _g_var=0.02)"
   ]
  }
 ],
 "metadata": {
  "kernelspec": {
   "display_name": "Python 3.12.0 ('wiener')",
   "language": "python",
   "name": "python3"
  },
  "language_info": {
   "codemirror_mode": {
    "name": "ipython",
    "version": 3
   },
   "file_extension": ".py",
   "mimetype": "text/x-python",
   "name": "python",
   "nbconvert_exporter": "python",
   "pygments_lexer": "ipython3",
   "version": "3.11.5"
  },
  "vscode": {
   "interpreter": {
    "hash": "29ae4bffdcba596b1effa6e9b985d166f26ce7006f8602a72ed87704e5840259"
   }
  }
 },
 "nbformat": 4,
 "nbformat_minor": 2
}
